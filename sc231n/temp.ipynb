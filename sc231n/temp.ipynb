{
 "cells": [
  {
   "cell_type": "code",
   "execution_count": 3,
   "metadata": {
    "collapsed": true,
    "pycharm": {
     "name": "#%%\n"
    }
   },
   "outputs": [
    {
     "name": "stdout",
     "output_type": "stream",
     "text": [
      "[WinError 3] 系统找不到指定的路径。: '/content/drive/My\\\\ Drive/$FOLDERNAME/cs231n/'\n",
      "D:\\Franfi\\AIstudy\\Aistudy\\assignment2\\cs231n\n",
      "running build_ext\n",
      "[WinError 3] 系统找不到指定的路径。: '/content/drive/My\\\\ Drive/$FOLDERNAME/'\n",
      "D:\\Franfi\\AIstudy\\Aistudy\\assignment2\\cs231n\n"
     ]
    }
   ],
   "source": [
    "# Remember to restart the runtime after executing this cell!\n",
    "%cd /content/drive/My\\ Drive/$FOLDERNAME/cs231n/\n",
    "!python setup.py build_ext --inplace\n",
    "%cd /content/drive/My\\ Drive/$FOLDERNAME/"
   ]
  }
 ],
 "metadata": {
  "kernelspec": {
   "display_name": "Python 3",
   "language": "python",
   "name": "python3"
  },
  "language_info": {
   "codemirror_mode": {
    "name": "ipython",
    "version": 2
   },
   "file_extension": ".py",
   "mimetype": "text/x-python",
   "name": "python",
   "nbconvert_exporter": "python",
   "pygments_lexer": "ipython2",
   "version": "2.7.6"
  }
 },
 "nbformat": 4,
 "nbformat_minor": 0
}